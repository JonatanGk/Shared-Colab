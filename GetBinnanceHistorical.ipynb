{
  "nbformat": 4,
  "nbformat_minor": 0,
  "metadata": {
    "colab": {
      "name": "GetBinnanceHistorical.ipynb",
      "provenance": [],
      "collapsed_sections": [
        "pUBxMCAMSH7e",
        "NEzEMY_pUlO2"
      ],
      "toc_visible": true,
      "include_colab_link": true
    },
    "kernelspec": {
      "name": "python3",
      "display_name": "Python 3"
    },
    "language_info": {
      "name": "python"
    }
  },
  "cells": [
    {
      "cell_type": "markdown",
      "metadata": {
        "id": "view-in-github",
        "colab_type": "text"
      },
      "source": [
        "<a href=\"https://colab.research.google.com/github/JonatanGk/Shared-Colab/blob/main/GetBinnanceHistorical.ipynb\" target=\"_parent\"><img src=\"https://colab.research.google.com/assets/colab-badge.svg\" alt=\"Open In Colab\"/></a>"
      ]
    },
    {
      "cell_type": "markdown",
      "metadata": {
        "id": "DVfpGSEG-aTl"
      },
      "source": [
        "# ***Binance Historical Data***\n",
        "Get Binance historical data from symbols\n",
        "\n",
        "Author: [Jonatan L.](https://jonatangk.github.io/)\n"
      ]
    },
    {
      "cell_type": "markdown",
      "metadata": {
        "id": "aTW94ujmXfou"
      },
      "source": [
        "# Set variables & Mount GDrive"
      ]
    },
    {
      "cell_type": "code",
      "metadata": {
        "colab": {
          "base_uri": "https://localhost:8080/"
        },
        "id": "q3onl-GyWsr4",
        "outputId": "eb78deaf-1fbd-4a03-c127-91a8e26aab82"
      },
      "source": [
        "from google.colab import drive\n",
        "drive.mount('/content/drive')"
      ],
      "execution_count": null,
      "outputs": [
        {
          "output_type": "stream",
          "text": [
            "Drive already mounted at /content/drive; to attempt to forcibly remount, call drive.mount(\"/content/drive\", force_remount=True).\n"
          ],
          "name": "stdout"
        }
      ]
    },
    {
      "cell_type": "code",
      "metadata": {
        "id": "I06QB9uNU2LV",
        "cellView": "form"
      },
      "source": [
        "start = \"01 March, 2021\" #@param {type: \"string\"}\n",
        "end = \"31 March, 2021\" #@param {type: \"string\"}\n",
        "symbols = [\"BTCUSDT\",\"DOTUSDT\",\"ADAUSDT\",\"ETHUSDT\"] #@param\n",
        "interval = '5m' #@param [\"1m\", \"1d\", \"1w\", \"5m\", \"15m\"]\n",
        "path = \"/content/drive/Shareddrives/MyFolder2Save/\"  #@param {type: \"string\"}"
      ],
      "execution_count": null,
      "outputs": []
    },
    {
      "cell_type": "markdown",
      "metadata": {
        "id": "pUBxMCAMSH7e"
      },
      "source": [
        "# Install packages/imports"
      ]
    },
    {
      "cell_type": "code",
      "metadata": {
        "id": "4eoQX6xNTgGJ",
        "cellView": "form"
      },
      "source": [
        "#@title\n",
        "%%capture\n",
        "!pip install dateparser\n",
        "!pip install python-binance"
      ],
      "execution_count": null,
      "outputs": []
    },
    {
      "cell_type": "code",
      "metadata": {
        "colab": {
          "base_uri": "https://localhost:8080/"
        },
        "id": "H0cqtO2_QLSf",
        "cellView": "form",
        "outputId": "b763b03a-e640-4b5d-f72f-0d7f7665f4d4"
      },
      "source": [
        "#@title\n",
        "import dateparser\n",
        "import pytz\n",
        "import os\n",
        "from datetime import datetime\n",
        "import binance\n",
        "print(binance.__file__)\n",
        "from binance.client import Client\n",
        "import time\n",
        "import pandas as pd\n",
        "\n",
        "def date_to_milliseconds(date_str):\n",
        "    \"\"\"Convert UTC date to milliseconds\n",
        "\n",
        "    If using offset strings add \"UTC\" to date string e.g. \"now UTC\", \"11 hours ago UTC\"\n",
        "\n",
        "    See dateparse docs for formats http://dateparser.readthedocs.io/en/latest/\n",
        "\n",
        "    :param date_str: date in readable format, i.e. \"January 01, 2018\", \"11 hours ago UTC\", \"now UTC\"\n",
        "    :type date_str: str\n",
        "    \"\"\"\n",
        "    # get epoch value in UTC\n",
        "    epoch = datetime.utcfromtimestamp(0).replace(tzinfo=pytz.utc)\n",
        "    # parse our date string\n",
        "    d = dateparser.parse(date_str)\n",
        "    # if the date is not timezone aware apply UTC timezone\n",
        "    if d.tzinfo is None or d.tzinfo.utcoffset(d) is None:\n",
        "        d = d.replace(tzinfo=pytz.utc)\n",
        "\n",
        "    # return the difference in time\n",
        "    return int((d - epoch).total_seconds() * 1000.0)\n",
        "\n",
        "\n",
        "def interval_to_milliseconds(interval):\n",
        "    \"\"\"Convert a Binance interval string to milliseconds\n",
        "\n",
        "    :param interval: Binance interval string 1m, 3m, 5m, 15m, 30m, 1h, 2h, 4h, 6h, 8h, 12h, 1d, 3d, 1w\n",
        "    :type interval: str\n",
        "\n",
        "    :return:\n",
        "         None if unit not one of m, h, d or w\n",
        "         None if string not in correct format\n",
        "         int value of interval in milliseconds\n",
        "    \"\"\"\n",
        "    ms = None\n",
        "    seconds_per_unit = {\n",
        "        \"m\": 60,\n",
        "        \"h\": 60 * 60,\n",
        "        \"d\": 24 * 60 * 60,\n",
        "        \"w\": 7 * 24 * 60 * 60\n",
        "    }\n",
        "\n",
        "    unit = interval[-1]\n",
        "    if unit in seconds_per_unit:\n",
        "        try:\n",
        "            ms = int(interval[:-1]) * seconds_per_unit[unit] * 1000\n",
        "        except ValueError:\n",
        "            pass\n",
        "    return ms\n",
        "\n",
        "def GetUpdateData(kline):\n",
        "     Time = time.strftime(\"%m/%d/%Y %H:%M:%S\", time.gmtime(kline[0]/1000))\n",
        "     Open = kline[1]\n",
        "     High = kline[2]\n",
        "     Low = kline[3]\n",
        "     Close = kline[4]\n",
        "     Volume = kline[5]\n",
        "     Close_time = time.strftime(\"%m/%d/%Y %H:%M:%S\", time.localtime(kline[6]/1000))\n",
        "     Quote_asset_volume = kline[7]\n",
        "     Number_of_trades = kline[8]\n",
        "     Taker_buy_base_asset_volume = kline[9]\n",
        "     Taker_buy_quote_asset_volume = kline[10]\n",
        "     return Time,Open,High,Low,Close,Volume,Close_time,Quote_asset_volume,Number_of_trades,Taker_buy_base_asset_volume,Taker_buy_quote_asset_volume\n",
        "\n",
        "\n",
        "def get_historical_klines(symbol, interval, start_str, end_str=None):\n",
        "    \"\"\"Get Historical Klines from Binance\n",
        "\n",
        "    See dateparse docs for valid start and end string formats http://dateparser.readthedocs.io/en/latest/\n",
        "\n",
        "    If using offset strings for dates add \"UTC\" to date string e.g. \"now UTC\", \"11 hours ago UTC\"\n",
        "\n",
        "    :param symbol: Name of symbol pair e.g BNBBTC\n",
        "    :type symbol: str\n",
        "    :param interval: Biannce Kline interval\n",
        "    :type interval: str\n",
        "    :param start_str: Start date string in UTC format\n",
        "    :type start_str: str\n",
        "    :param end_str: optional - end date string in UTC format\n",
        "    :type end_str: str\n",
        "\n",
        "    :return: list of OHLCV values\n",
        "\n",
        "    \"\"\"\n",
        "    # create the Binance client, no need for api key\n",
        "    client = Client(\"\", \"\")\n",
        "\n",
        "    # init our list\n",
        "    output_data = []\n",
        "\n",
        "    # setup the max limit\n",
        "    limit = 500\n",
        "\n",
        "    # convert interval to useful value in seconds\n",
        "    timeframe = interval_to_milliseconds(interval)\n",
        "\n",
        "    # convert our date strings to milliseconds\n",
        "    start_ts = date_to_milliseconds(start_str)\n",
        "\n",
        "    # if an end time was passed convert it\n",
        "    end_ts = None\n",
        "    if end_str:\n",
        "        end_ts = date_to_milliseconds(end_str)\n",
        "\n",
        "    idx = 0\n",
        "    # it can be difficult to know when a symbol was listed on Binance so allow start time to be before list date\n",
        "    symbol_existed = False\n",
        "    while True:\n",
        "        # fetch the klines from start_ts up to max 500 entries or the end_ts if set\n",
        "\n",
        "        temp_data = client.get_klines(\n",
        "            symbol=symbol,\n",
        "            interval=interval,\n",
        "            limit=limit,\n",
        "            startTime=start_ts\n",
        "        )\n",
        "        # handle the case where our start date is before the symbol pair listed on Binance\n",
        "        if not symbol_existed and len(temp_data):\n",
        "            symbol_existed = True\n",
        "\n",
        "        if symbol_existed:\n",
        "            # append this loops data to our output data\n",
        "            output_data += temp_data\n",
        "\n",
        "            # update our start timestamp using the last value in the array and add the interval timeframe\n",
        "            start_ts = temp_data[len(temp_data) - 1][0] + timeframe\n",
        "        else:\n",
        "            # it wasn't listed yet, increment our start date\n",
        "            start_ts += timeframe\n",
        "\n",
        "        idx += 1\n",
        "        # check if we received less than the required limit and exit the loop\n",
        "        if len(temp_data) < limit:\n",
        "            # exit the while loop\n",
        "            break\n",
        "\n",
        "        # sleep after every 3rd call to be kind to the API\n",
        "        if idx % 3 == 0:\n",
        "            time.sleep(1)\n",
        "\n",
        "    return output_data\n",
        "    "
      ],
      "execution_count": null,
      "outputs": [
        {
          "output_type": "stream",
          "text": [
            "/usr/local/lib/python3.7/dist-packages/binance/__init__.py\n"
          ],
          "name": "stdout"
        }
      ]
    },
    {
      "cell_type": "markdown",
      "metadata": {
        "id": "NEzEMY_pUlO2"
      },
      "source": [
        "# Get data & save"
      ]
    },
    {
      "cell_type": "code",
      "metadata": {
        "id": "lTneWQ9HY6Q8"
      },
      "source": [
        "#@title\n",
        "for symbol in symbols:\n",
        "    klines = get_historical_klines(symbol, interval, start, end)\n",
        "\n",
        "    times = []\n",
        "    Opens = []\n",
        "    Highs = []\n",
        "    Lows  = []\n",
        "    Closes = []\n",
        "    Volumes = []\n",
        "    Close_times = []\n",
        "    Quote_asset_volumes = []\n",
        "    Number_of_tradess = []\n",
        "    Taker_buy_base_asset_volumes = []\n",
        "    Taker_buy_quote_asset_volumes = []\n",
        "    for k in klines:\n",
        "        Time,Open,High,Low,Close,Volume,Close_time,Quote_asset_volume,Number_of_trades,Taker_buy_base_asset_volume,Taker_buy_quote_asset_volume = GetUpdateData(k)\n",
        "        times.append(Time)\n",
        "        Opens.append(Open)\n",
        "        Highs.append(High)\n",
        "        Lows.append(Low)\n",
        "        Closes.append(Close)\n",
        "        Volumes.append(Volume)\n",
        "        Close_times.append(Close_time)\n",
        "        Quote_asset_volumes.append(Quote_asset_volume)\n",
        "        Number_of_tradess.append(Number_of_trades)\n",
        "        Taker_buy_base_asset_volumes.append(Taker_buy_base_asset_volume)\n",
        "        Taker_buy_quote_asset_volumes.append(Taker_buy_quote_asset_volume)\n",
        "\n",
        "\n",
        "    DataStruct = pd.DataFrame()\n",
        "    DataStruct['time'] = times\n",
        "    DataStruct['Open'] = Opens\n",
        "    DataStruct['High'] = Highs\n",
        "    DataStruct['Low'] = Lows\n",
        "    DataStruct['Close'] = Closes\n",
        "    DataStruct['Volume'] = Volumes\n",
        "    DataStruct['Close_time'] = Close_times\n",
        "    DataStruct['Quote_asset_volume'] = Quote_asset_volumes\n",
        "    DataStruct['Number_of_trades'] = Number_of_tradess\n",
        "    DataStruct['Taker_buy_base_asset_volume'] = Taker_buy_base_asset_volumes\n",
        "    DataStruct['Taker_buy_quote_asset_volume'] = Taker_buy_quote_asset_volumes\n",
        "\n",
        "    FileName = symbol+ '_' + start+ '_' + end + '_' +interval+ ' .csv'\n",
        "    FileName = FileName.replace(' ','_')\n",
        "    FileName = FileName.replace(',','')\n",
        "    Path2Save = os.path.normpath(path+interval)\n",
        "    if not os.path.exists(Path2Save):\n",
        "        os.makedirs(Path2Save)\n",
        "    SaveStrFile = os.path.normpath(Path2Save+ os.path.sep +FileName)\n",
        "    D_S_header = ['time','Open','High','Low','Close','Volume','Close_time','Quote_asset_volume','Number_of_trades','Taker_buy_base_asset_volume','Taker_buy_quote_asset_volume']\n",
        "    DataStruct.to_csv(path_or_buf = SaveStrFile, header = D_S_header )"
      ],
      "execution_count": null,
      "outputs": []
    }
  ]
}